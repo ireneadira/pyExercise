{
 "cells": [
  {
   "cell_type": "code",
   "execution_count": 35,
   "metadata": {},
   "outputs": [],
   "source": [
    "import requests\n",
    "import json"
   ]
  },
  {
   "cell_type": "code",
   "execution_count": 45,
   "metadata": {},
   "outputs": [],
   "source": [
    "productId = 47688896452\n",
    "referer = f'''https://item.yiyaojd.com/{productId}.html'''"
   ]
  },
  {
   "cell_type": "code",
   "execution_count": 46,
   "metadata": {},
   "outputs": [
    {
     "name": "stdout",
     "output_type": "stream",
     "text": [
      "{'Accept': '*/*', 'Accept-Encoding': 'gzip,deflate', 'Accept-Language': 'zh-CN,zh;q=0.9,en-US;q=0.8,en;q=0.7', 'Cache-Control': 'no-cache', 'Connection': 'close', 'Host': 'club.jd.com', 'Pragma': 'no-cache', 'Referer': 'https://item.yiyaojd.com/47688896452.html', 'Sec-Fetch-Dest': 'script', 'Sec-Fetch-Mode': 'no-cors', 'User-Agent': 'Mozilla/5.0 (Windows NT 10.0; Win64; x64) AppleWebKit/537.36 (KHTML, like Gecko) Chrome/84.0.4147.105 Safari/537.36'}\n"
     ]
    }
   ],
   "source": [
    "header = {'Accept': '*/*',\n",
    "'Accept-Encoding': 'gzip,deflate',\n",
    "'Accept-Language': 'zh-CN,zh;q=0.9,en-US;q=0.8,en;q=0.7',\n",
    "'Cache-Control': 'no-cache',\n",
    "'Connection': 'close',\n",
    "'Host': 'club.jd.com',\n",
    "'Pragma': 'no-cache',\n",
    "'Referer': referer,\n",
    "'Sec-Fetch-Dest': 'script',\n",
    "'Sec-Fetch-Mode': 'no-cors',\n",
    "'User-Agent': 'Mozilla/5.0 (Windows NT 10.0; Win64; x64) AppleWebKit/537.36 (KHTML, like Gecko) Chrome/84.0.4147.105 Safari/537.36'}\n",
    "print(header)"
   ]
  },
  {
   "cell_type": "code",
   "execution_count": 67,
   "metadata": {},
   "outputs": [],
   "source": [
    "url = f'''https://club.jd.com/comment/skuProductPageComments.action?productId={productId}&score=1&sortType=5&page=0&pageSize=10&isShadowSku=0&fold=1'''"
   ]
  },
  {
   "cell_type": "code",
   "execution_count": 68,
   "metadata": {},
   "outputs": [
    {
     "name": "stdout",
     "output_type": "stream",
     "text": [
      "{\"productAttr\":null,\"productCommentSummary\":{\"skuId\":47688896452,\"averageScore\":5,\"defaultGoodCount\":62,\"defaultGoodCountStr\":\"60+\",\"commentCount\":96,\"commentCountStr\":\"90+\",\"goodCount\":33,\"goodCountStr\":\"30+\",\"goodRate\":0.97,\"goodRateShow\":97,\"generalCount\":1,\"generalCountStr\":\"1\",\"generalRate\":0.03,\"generalRateShow\":3,\"poorCount\":0,\"poorCountStr\":\"0\",\"poorRate\":0.0,\"poorRateShow\":0,\"videoCount\":0,\"videoCountStr\":\"0\",\"afterCount\":1,\"afterCountStr\":\"1\",\"showCount\":3,\"showCountStr\":\"3\",\"oneYear\":0,\"sensitiveBook\":0,\"fixCount\":0,\"plusCount\":0,\"plusCountStr\":\"0\",\"buyerShow\":0,\"poorRateStyle\":0,\"generalRateStyle\":5,\"goodRateStyle\":145,\"installRate\":0,\"productId\":47688896452,\"score1Count\":0,\"score2Count\":0,\"score3Count\":1,\"score4Count\":0,\"score5Count\":33},\"hotCommentTagStatistics\":[],\"jwotestProduct\":null,\"maxPage\":0,\"testId\":\"A\",\"score\":1,\"soType\":5,\"imageListCount\":3,\"vTagStatistics\":null,\"csv\":\"NOTHING\",\"comments\":[]}\n"
     ]
    }
   ],
   "source": [
    "rep_test = requests.get(url, headers = header)\n",
    "print(rep_test.text)"
   ]
  },
  {
   "cell_type": "code",
   "execution_count": 64,
   "metadata": {},
   "outputs": [],
   "source": [
    "rep_json = json.loads(rep_test.text)"
   ]
  },
  {
   "cell_type": "code",
   "execution_count": 65,
   "metadata": {},
   "outputs": [],
   "source": [
    "tmp_json_list = rep_json.get(\"comments\")"
   ]
  },
  {
   "cell_type": "code",
   "execution_count": 66,
   "metadata": {},
   "outputs": [
    {
     "name": "stdout",
     "output_type": "stream",
     "text": [
      "||1.价格实惠，小孩喝了四个疗程，效果不错。\n",
      "||2.产品是正品，快递也挺！谢谢送的茶，吃完还会再来的\n",
      "||3.一直买这个药吃，非常好?。遇上折扣就多买几个。京东物流非常好，东西不会碎，快递小哥的服务态度特别好，遇到重物总帮忙搬到楼上！非常赞?！\n",
      "||4.宝贝己收到，物流很快，药品效果好，价格便宜\n",
      "||5.第一次买希望是正品\n",
      "||6.物理很快，满意\n",
      "||7.18年在实体店买的和这次京东大药房买的产品包装外观一样，是正品。\n",
      "||8.我吃过此药效果不错，商家服务好，物流很快。\n",
      "||9.京东大药房还是正品，质量可靠。\n",
      "||10.不错，包装完好，正品可信\n"
     ]
    }
   ],
   "source": [
    "comment_index = 1\n",
    "for comments in tmp_json_list:\n",
    "    comment = comments.get(\"content\")\n",
    "    all_comment = '||' + str(comment_index) + '.' + str(comment)\n",
    "    comment_index += 1\n",
    "    print(all_comment)"
   ]
  },
  {
   "cell_type": "code",
   "execution_count": 69,
   "metadata": {},
   "outputs": [],
   "source": [
    "good_comments_count = rep_json.get(\"productCommentSummary\").get(\"goodCountStr\")\n",
    "poor_comments_count = rep_json.get(\"productCommentSummary\").get(\"poorCountStr\")"
   ]
  },
  {
   "cell_type": "code",
   "execution_count": 70,
   "metadata": {},
   "outputs": [
    {
     "name": "stdout",
     "output_type": "stream",
     "text": [
      "30+\n",
      "0\n"
     ]
    }
   ],
   "source": [
    "print(good_comments_count)\n",
    "print(poor_comments_count)"
   ]
  },
  {
   "cell_type": "code",
   "execution_count": null,
   "metadata": {},
   "outputs": [],
   "source": []
  },
  {
   "cell_type": "code",
   "execution_count": null,
   "metadata": {},
   "outputs": [],
   "source": []
  },
  {
   "cell_type": "code",
   "execution_count": 1,
   "metadata": {},
   "outputs": [],
   "source": [
    "from selenium import webdriver"
   ]
  },
  {
   "cell_type": "code",
   "execution_count": 2,
   "metadata": {},
   "outputs": [],
   "source": [
    "options = webdriver.ChromeOptions()\n",
    "options.add_argument('--user-agent=Mozilla/5.0 (Windows NT 10.0; Win64; x64) AppleWebKit/537.36 (KHTML, like Gecko) Chrome/83.0.4103.61 Safari/537.36')\n",
    "options.add_argument(\"--user-data-dir=C:/Users/Administrator/AppData/Local/Google/Chrome/User Data Dev\")\n",
    "options.add_argument(\"--disable-gpu\")\n",
    "options.add_experimental_option(\"excludeSwitches\", [\"enable-automation\"])\n",
    "options.add_experimental_option('useAutomationExtension', False)\n",
    "prefs = {\n",
    "    'profile.default_content_setting_values': {\n",
    "        'images': 2,\n",
    "    }\n",
    "}\n",
    "options.add_experimental_option(\"prefs\", prefs)\n",
    "driver = webdriver.Chrome(options=options)\n",
    "driver.execute_cdp_cmd(\"Page.addScriptToEvaluateOnNewDocument\", {\n",
    "    \"source\": \"\"\"\n",
    "    Object.defineProperty(navigator, 'webdriver', {\n",
    "      get: () => undefined\n",
    "    })\n",
    "  \"\"\"\n",
    "})\n",
    "driver.set_page_load_timeout(30)"
   ]
  },
  {
   "cell_type": "code",
   "execution_count": 32,
   "metadata": {},
   "outputs": [],
   "source": [
    "all_msg = driver.find_elements_by_xpath('//div[@class=\"dlsk_jtnr\"]/ul/li')"
   ]
  },
  {
   "cell_type": "code",
   "execution_count": 33,
   "metadata": {},
   "outputs": [
    {
     "data": {
      "text/plain": [
       "4"
      ]
     },
     "execution_count": 33,
     "metadata": {},
     "output_type": "execute_result"
    }
   ],
   "source": [
    "len(all_msg[0].text)"
   ]
  },
  {
   "cell_type": "code",
   "execution_count": 34,
   "metadata": {},
   "outputs": [
    {
     "data": {
      "text/plain": [
       "'产品类别：'"
      ]
     },
     "execution_count": 34,
     "metadata": {},
     "output_type": "execute_result"
    }
   ],
   "source": [
    "all_msg[1].text"
   ]
  },
  {
   "cell_type": "code",
   "execution_count": 35,
   "metadata": {},
   "outputs": [
    {
     "data": {
      "text/plain": [
       "'批准文号：'"
      ]
     },
     "execution_count": 35,
     "metadata": {},
     "output_type": "execute_result"
    }
   ],
   "source": [
    "all_msg[2].text"
   ]
  },
  {
   "cell_type": "code",
   "execution_count": 36,
   "metadata": {},
   "outputs": [
    {
     "data": {
      "text/plain": [
       "'批准日期：'"
      ]
     },
     "execution_count": 36,
     "metadata": {},
     "output_type": "execute_result"
    }
   ],
   "source": [
    "all_msg[3].text"
   ]
  },
  {
   "cell_type": "code",
   "execution_count": 37,
   "metadata": {},
   "outputs": [
    {
     "data": {
      "text/plain": [
       "'原文号：'"
      ]
     },
     "execution_count": 37,
     "metadata": {},
     "output_type": "execute_result"
    }
   ],
   "source": [
    "all_msg[4].text"
   ]
  },
  {
   "cell_type": "code",
   "execution_count": 26,
   "metadata": {},
   "outputs": [
    {
     "data": {
      "text/plain": [
       "'药品规格：每粒胶囊含：L-异亮氨酸18.0mg、L-亮氨酸10.0mg、L-盐酸赖氨酸21.75mg、L-苯丙氨酸7.5mg、L-苏氨酸4.0mg、L-缬氨酸6.0mg、L-色氨酸5.0mg、L-蛋氨酸18.0'"
      ]
     },
     "execution_count": 26,
     "metadata": {},
     "output_type": "execute_result"
    }
   ],
   "source": [
    "all_msg[5].text"
   ]
  },
  {
   "cell_type": "code",
   "execution_count": 27,
   "metadata": {},
   "outputs": [
    {
     "data": {
      "text/plain": [
       "'药品本位码：86903094000706'"
      ]
     },
     "execution_count": 27,
     "metadata": {},
     "output_type": "execute_result"
    }
   ],
   "source": [
    "all_msg[6].text"
   ]
  },
  {
   "cell_type": "code",
   "execution_count": 28,
   "metadata": {},
   "outputs": [
    {
     "data": {
      "text/plain": [
       "'本位码备注：'"
      ]
     },
     "execution_count": 28,
     "metadata": {},
     "output_type": "execute_result"
    }
   ],
   "source": [
    "all_msg[7].text"
   ]
  },
  {
   "cell_type": "code",
   "execution_count": 29,
   "metadata": {},
   "outputs": [
    {
     "data": {
      "text/plain": [
       "'生产企业：河南新帅克制药股份有限公司'"
      ]
     },
     "execution_count": 29,
     "metadata": {},
     "output_type": "execute_result"
    }
   ],
   "source": [
    "all_msg[8].text"
   ]
  },
  {
   "cell_type": "code",
   "execution_count": 30,
   "metadata": {},
   "outputs": [
    {
     "data": {
      "text/plain": [
       "'英文名称：CompoundAminoAcidand'"
      ]
     },
     "execution_count": 30,
     "metadata": {},
     "output_type": "execute_result"
    }
   ],
   "source": [
    "all_msg[9].text"
   ]
  },
  {
   "cell_type": "code",
   "execution_count": 31,
   "metadata": {},
   "outputs": [
    {
     "data": {
      "text/plain": [
       "'药品剂型：胶囊剂'"
      ]
     },
     "execution_count": 31,
     "metadata": {},
     "output_type": "execute_result"
    }
   ],
   "source": [
    "all_msg[10].text"
   ]
  },
  {
   "cell_type": "code",
   "execution_count": 38,
   "metadata": {},
   "outputs": [],
   "source": [
    "driver.quit()"
   ]
  },
  {
   "cell_type": "code",
   "execution_count": null,
   "metadata": {},
   "outputs": [],
   "source": []
  }
 ],
 "metadata": {
  "kernelspec": {
   "display_name": "Python 3",
   "language": "python",
   "name": "python3"
  },
  "language_info": {
   "codemirror_mode": {
    "name": "ipython",
    "version": 3
   },
   "file_extension": ".py",
   "mimetype": "text/x-python",
   "name": "python",
   "nbconvert_exporter": "python",
   "pygments_lexer": "ipython3",
   "version": "3.8.3"
  }
 },
 "nbformat": 4,
 "nbformat_minor": 4
}
