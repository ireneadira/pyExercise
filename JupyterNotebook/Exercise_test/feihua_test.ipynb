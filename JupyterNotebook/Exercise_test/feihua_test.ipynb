{
 "cells": [
  {
   "cell_type": "code",
   "execution_count": 1,
   "metadata": {},
   "outputs": [
    {
     "name": "stdout",
     "output_type": "stream",
     "text": [
      "请输入文章主体:怎么优雅的放鸽子\n",
      "请输入主体行为:放鸽子\n",
      "怎么优雅的放鸽子放鸽子是怎么回事呢？怎么优雅的放鸽子相信大家都很熟悉，但是怎么优雅的放鸽子放鸽子是怎么回事呢，下面就让小编带大家一起了解吧。\n",
      "怎么优雅的放鸽子放鸽子，其实就是怎么优雅的放鸽子放鸽子。大家可能会很惊讶怎么怎么优雅的放鸽子放鸽子会是怎么优雅的放鸽子放鸽子呢？但事实就是这样，小编也感到非常惊讶。那么这就是关于怎么优雅的放鸽子放鸽子的事情了，大家有什么想法呢，欢迎在评论区留言告诉小编一起讨论哦！\n"
     ]
    }
   ],
   "source": [
    "feihuas = ['是怎么回事呢？','相信大家都很熟悉，但是','是怎么回事呢，下面就让小编带大家一起了解吧。\\n',\n",
    "           '，其实就是','。大家可能会很惊讶怎么','会是','呢？但事实就是这样，小编也感到非常惊讶。那么这就是关于',\n",
    "           '的事情了，大家有什么想法呢，欢迎在评论区留言告诉小编一起讨论哦！']\n",
    "\n",
    "title = input(\"请输入文章主体:\")\n",
    "act = input(\"请输入主体行为:\")\n",
    "bullshit = ''\n",
    "\n",
    "for fh in feihuas:\n",
    "    if fh[0] == '相' :\n",
    "        bullshit = bullshit + title + fh\n",
    "    else:\n",
    "        bullshit = bullshit + title + act + fh\n",
    "\n",
    "print(bullshit)"
   ]
  }
 ],
 "metadata": {
  "kernelspec": {
   "display_name": "Python 3",
   "language": "python",
   "name": "python3"
  },
  "language_info": {
   "codemirror_mode": {
    "name": "ipython",
    "version": 3
   },
   "file_extension": ".py",
   "mimetype": "text/x-python",
   "name": "python",
   "nbconvert_exporter": "python",
   "pygments_lexer": "ipython3",
   "version": "3.8.3"
  }
 },
 "nbformat": 4,
 "nbformat_minor": 4
}
